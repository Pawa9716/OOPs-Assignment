{
  "nbformat": 4,
  "nbformat_minor": 0,
  "metadata": {
    "colab": {
      "provenance": []
    },
    "kernelspec": {
      "name": "python3",
      "display_name": "Python 3"
    },
    "language_info": {
      "name": "python"
    }
  },
  "cells": [
    {
      "cell_type": "markdown",
      "source": [
        "1.What is Object-Oriented Programming (OOP)?\n",
        "  - Object-Oriented Programming (OOP) is a programming paradigm that organizes software design around objects (data structures containing both data and methods) rather than functions and logic, promoting modularity, reusability, and maintainability.\n",
        "\n",
        "2.What is a class in OOP?\n",
        "  - In Object-Oriented Programming (OOP), a class is a blueprint or template for creating objects, defining their attributes (data) and methods (actions). Think of it as a recipe for creating specific instances of a thing, like a car, where the class \"Car\" defines the general structure and behavior, and individual cars are objects created from that class.\n",
        "\n",
        "3.What is an object in OOP?\n",
        "  - In object-oriented programming (OOP), an object is a fundamental unit that encapsulates data (attributes or properties) and the actions (methods or behaviors) that can be performed on that data, representing a real-world entity or concept.\n",
        "\n",
        "4.What is the difference between abstraction and encapsulation?\n",
        "  - In object-oriented programming, abstraction focuses on simplifying complex systems by hiding implementation details and exposing only essential features, while encapsulation bundles data and methods within a class, controlling access to ensure data protection and maintainability.\n",
        "\n",
        "5.What are dunder methods in Python?\n",
        "  - In Python, \"dunder\" methods (short for \"double underscore\" methods) are special methods, also known as magic methods, that have double underscores at the beginning and end of their names (e.g., __init__, __str__) and are used to define specific behaviors for built-in operations and functionalities within classes.\n",
        "\n",
        "6.Explain the concept of inheritance in OOP.\n",
        "  - In Object-Oriented Programming (OOP), inheritance is a mechanism where a new class (derived or child class) inherits properties and methods from an existing class (base or parent class), promoting code reuse and hierarchical relationships.\n",
        "\n",
        "7.What is polymorphism in OOP?\n",
        "  - In object-oriented programming (OOP), polymorphism means \"many forms\" and allows objects of different classes to be treated as objects of a common type, enabling flexible and reusable code.\n",
        "\n",
        "8.How is encapsulation achieved in Python?\n",
        "  - In Python, encapsulation, the bundling of data and methods that operate on that data into a single unit (a class), is achieved primarily through conventions and practices, rather than strict access modifiers like in other languages, using naming conventions to suggest private or protected access.\n",
        "\n",
        "9.What is a constructor in Python?\n",
        "  - In Python, a constructor is a special method, __init__, used to initialize the attributes of a class when a new object (instance) is created. It's automatically called when you instantiate a class, allowing you to set initial values for the object's properties.\n",
        "\n",
        "10.What are class and static methods in Python?\n",
        "  - In Python, class methods are bound to the class itself (not instances) and can access class attributes, while static methods are functions within a class that don't have access to either class or instance data, serving as utility functions.\n",
        "\n",
        "11.What is method overloading in Python?\n",
        "  - In Python, while the term \"method overloading\" is often used, the language doesn't directly support it in the same way as some other languages like Java. Instead, Python achieves similar functionality through **flexible argument handling using default arguments, variable-length arguments (*args, kwargs), and conditional logic within a function.\n",
        "\n",
        "12.What is method overriding in OOP?\n",
        "  - In Object-Oriented Programming (OOP), method overriding allows a subclass to provide a specific implementation for a method that is already defined in its superclass, enabling specialized behavior while maintaining the same method signature.\n",
        "\n",
        "13.What is a property decorator in Python?\n",
        "  - The Python property decorator makes attributes in a class act like read-only properties. Essentially, it lets you access methods as if they were attributes, without needing to write parentheses.\n",
        "\n",
        "14.Why is polymorphism important in OOP?\n",
        "  - Polymorphism is crucial in Object-Oriented Programming (OOP) because it enables code reusability, flexibility, and maintainability by allowing objects of different classes to be treated as objects of a common type, promoting adaptable and modular software systems.\n",
        "\n",
        "15.What is an abstract class in Python?\n",
        "  - In Python, an abstract class is a blueprint for other classes, designed to be subclassed but not instantiated directly, containing one or more abstract methods (methods without implementation) that must be implemented by its subclasses.\n",
        "\n",
        "16.What are the advantages of OOP?\n",
        "  - Object-Oriented Programming (OOP) offers advantages like improved code organization, reusability through inheritance, flexibility with polymorphism, and easier maintenance and debugging due to modularity and encapsulation.\n",
        "\n",
        "17.What is the difference between a class variable and an instance variable?\n",
        "  - In object-oriented programming, a class variable (also known as a static variable) is shared by all instances (objects) of a class, while an instance variable is unique to each instance.\n",
        "\n",
        "18.What is multiple inheritance in Python?\n",
        "  - n Python, multiple inheritance allows a class to inherit attributes and methods from more than one parent class, enabling a class to combine behaviors or attributes from multiple sources.\n",
        "\n",
        "19.Explain the purpose of ‘’__str__’ and ‘__repr__’ ‘ methods in Python.\n",
        "  - In Python, __str__ provides a user-friendly, informal string representation of an object, while __repr__ offers a more developer-focused, unambiguous representation, often useful for debugging and object inspection.\n",
        "\n",
        "20.What is the significance of the ‘super()’ function in Python?\n",
        "  - In Python, the super() function is a built-in function that allows a subclass to access and call methods of its parent (or super) class, facilitating inheritance and code reusability.\n",
        "\n",
        "21.What is the significance of the __del__ method in Python?\n",
        "  - In Python, the __del__() method, also known as a destructor or finalizer, is a special method that is automatically called by the garbage collector when an object is about to be destroyed, allowing for cleanup of resources before the object is deallocated.\n",
        "\n",
        "22.What is the difference between @staticmethod and @classmethod in Python?\n",
        "  - In Python, @classmethod binds a method to the class, allowing access to the class itself (via cls), while @staticmethod defines a method that belongs to the class but doesn't have access to either the class or instance.\n",
        "\n",
        "23.How does polymorphism work in Python with inheritance?\n",
        "  - In Python, polymorphism with inheritance works through method overriding, where child classes can redefine methods inherited from parent classes, allowing the same method name to have different implementations based on the object type.\n",
        "\n",
        "24.What is method chaining in Python OOP?\n",
        "  - In Python OOP, method chaining allows you to call multiple methods on the same object in a single, readable line of code, by having each method return the object itself (or a derived version of it).\n",
        "\n",
        "25.What is the purpose of the __call__ method in Python?\n",
        "  - The __call__ method in Python allows you to make instances of a class callable, meaning you can treat them like functions and call them using parentheses, like instance().\n",
        "  "
      ],
      "metadata": {
        "id": "BzulOQvHcIZj"
      }
    },
    {
      "cell_type": "code",
      "execution_count": 2,
      "metadata": {
        "id": "sRoafXswcCnL"
      },
      "outputs": [],
      "source": [
        "#Create a parent class Animal with a method speak() that prints a generic message. Create a child class Dogthat overrides the speak() method to print \"Bark!\".\n",
        "class Animal:\n",
        "    def speak(self):\n",
        "        print(\"Generic animal sound\")\n",
        "\n",
        "class Dog(Animal):\n",
        "    def speak(self):\n",
        "        print(\"Bark!\")"
      ]
    },
    {
      "cell_type": "code",
      "source": [
        "#Write a program to create an abstract class Shape with a method area(). Derive classes Circle and Rectangle from it and implement the area() method in both.\n",
        "from abc import ABC, abstractmethod\n",
        "import math\n",
        "\n",
        "class Shape(ABC):\n",
        "    @abstractmethod\n",
        "    def area(self):\n",
        "        pass\n",
        "\n",
        "class Circle(Shape):\n",
        "    def __init__(self, radius):\n",
        "        self.radius = radius\n",
        "\n",
        "    def area(self):\n",
        "        return math.pi * self.radius ** 2\n",
        "\n",
        "class Rectangle(Shape):\n",
        "    def __init__(self, length, width):\n",
        "        self.length = length\n",
        "        self.width = width\n",
        "\n",
        "    def area(self):\n",
        "        return self.length * self.width\n",
        "\n",
        "# Example usage\n",
        "circle = Circle(5)\n",
        "rectangle = Rectangle(4, 6)\n",
        "\n",
        "print(f\"Area of Circle: {circle.area()}\")\n",
        "print(f\"Area of Rectangle: {rectangle.area()}\")"
      ],
      "metadata": {
        "colab": {
          "base_uri": "https://localhost:8080/"
        },
        "id": "aSJQ9BTDmOQC",
        "outputId": "13177a0b-8e53-46bb-a3a6-b31ebcb0a996"
      },
      "execution_count": 30,
      "outputs": [
        {
          "output_type": "stream",
          "name": "stdout",
          "text": [
            "Area of Circle: 78.53981633974483\n",
            "Area of Rectangle: 24\n"
          ]
        }
      ]
    },
    {
      "cell_type": "code",
      "source": [
        "# Implement a multi-level inheritance scenario where a class Vehicle has an attribute type. Derive a class Car and further derive a class ElectricCar that adds a battery attribute.\n",
        "class Vehicle:\n",
        "    def __init__(self, vehicle_type):\n",
        "        self.type = vehicle_type\n",
        "\n",
        "    def vehicle_info(self):\n",
        "        print(f\"Vehicle Type: {self.type}\")\n",
        "\n",
        "class Car(Vehicle):\n",
        "    def __init__(self, vehicle_type, brand):\n",
        "        super().__init__(vehicle_type)\n",
        "        self.brand = brand\n",
        "\n",
        "    def car_info(self):\n",
        "        print(f\"Car Brand: {self.brand}\")\n",
        "\n",
        "class ElectricCar(Car):\n",
        "    def __init__(self, vehicle_type, brand, battery_capacity):\n",
        "        super().__init__(vehicle_type, brand)\n",
        "        self.battery_capacity = battery_capacity\n",
        "\n",
        "    def electric_car_info(self):\n",
        "        print(f\"Battery Capacity: {self.battery_capacity} kWh\")\n",
        "\n",
        "# Example usage:\n",
        "electric_car = ElectricCar(\"Electric\", \"Tesla\", 75)\n",
        "electric_car.vehicle_info()\n",
        "electric_car.car_info()\n",
        "electric_car.electric_car_info()\n",
        "\n",
        "\n",
        "\n",
        "\n"
      ],
      "metadata": {
        "colab": {
          "base_uri": "https://localhost:8080/"
        },
        "id": "xfliVR6HgqRH",
        "outputId": "d1bc5de2-7b44-4f78-a678-2aa0935cd02b"
      },
      "execution_count": 25,
      "outputs": [
        {
          "output_type": "stream",
          "name": "stdout",
          "text": [
            "Vehicle Type: Electric\n",
            "Car Brand: Tesla\n",
            "Battery Capacity: 75 kWh\n"
          ]
        }
      ]
    },
    {
      "cell_type": "code",
      "source": [
        "# Demonstrate polymorphism by creating a base class Bird with a method fly(). Create two derived classes Sparrow and Penguin that override the fly() method.\n",
        "class Bird:\n",
        "    def fly(self):\n",
        "        print(\"Some birds can fly.\")\n",
        "\n",
        "class Sparrow(Bird):\n",
        "    def fly(self):\n",
        "        print(\"Sparrow flies high in the sky.\")\n",
        "\n",
        "class Penguin(Bird):\n",
        "    def fly(self):\n",
        "        print(\"Penguins cannot fly but can swim.\")\n",
        "\n",
        "# Example usage:\n",
        "birds = [Sparrow(), Penguin(), Bird()]\n",
        "\n",
        "for bird in birds:\n",
        "    bird.fly()\n"
      ],
      "metadata": {
        "colab": {
          "base_uri": "https://localhost:8080/"
        },
        "id": "RYeSsWNshUzd",
        "outputId": "92bb3bf1-8f01-42e0-d087-736401c448e8"
      },
      "execution_count": 5,
      "outputs": [
        {
          "output_type": "stream",
          "name": "stdout",
          "text": [
            "Sparrow flies high in the sky.\n",
            "Penguins cannot fly but can swim.\n",
            "Some birds can fly.\n"
          ]
        }
      ]
    },
    {
      "cell_type": "code",
      "source": [
        "# Write a program to demonstrate encapsulation by creating a class BankAccount with private attributes balance and methods to deposit, withdraw, and check balance.\n",
        "class BankAccount:\n",
        "    def __init__(self, initial_balance=0):\n",
        "        self.__balance = initial_balance  # Private attribute\n",
        "\n",
        "    def deposit(self, amount):\n",
        "        if amount > 0:\n",
        "            self.__balance += amount\n",
        "            print(f\"Deposited: {amount}\")\n",
        "        else:\n",
        "            print(\"Deposit amount must be positive.\")\n",
        "\n",
        "    def withdraw(self, amount):\n",
        "        if amount > 0:\n",
        "            if amount <= self.__balance:\n",
        "                self.__balance -= amount\n",
        "                print(f\"Withdrawn: {amount}\")\n",
        "            else:\n",
        "                print(\"Insufficient balance.\")\n",
        "        else:\n",
        "            print(\"Withdrawal amount must be positive.\")\n",
        "\n",
        "    def check_balance(self):\n",
        "        print(f\"Current balance: {self.__balance}\")\n",
        "\n",
        "# Example usage:\n",
        "account = BankAccount(100)\n",
        "account.deposit(50)\n",
        "account.withdraw(30)\n",
        "account.check_balance()"
      ],
      "metadata": {
        "colab": {
          "base_uri": "https://localhost:8080/"
        },
        "id": "HuSNZ9SHhpWM",
        "outputId": "0151b55d-779e-481a-e464-3c34872fdf1b"
      },
      "execution_count": 6,
      "outputs": [
        {
          "output_type": "stream",
          "name": "stdout",
          "text": [
            "Deposited: 50\n",
            "Withdrawn: 30\n",
            "Current balance: 120\n"
          ]
        }
      ]
    },
    {
      "cell_type": "code",
      "source": [
        "#  Demonstrate runtime polymorphism using a method play() in a base class Instrument. Derive classes Guitar and Piano that implement their own version of play().\n",
        "class Instrument:\n",
        "    def play(self):\n",
        "        print(\"Playing an instrument.\")\n",
        "\n",
        "class Guitar(Instrument):\n",
        "    def play(self):\n",
        "        print(\"Strumming the guitar.\")\n",
        "\n",
        "class Piano(Instrument):\n",
        "    def play(self):\n",
        "        print(\"Playing the piano.\")\n",
        "\n",
        "# Example usage:\n",
        "instruments = [Guitar(), Piano(), Instrument()]\n",
        "\n",
        "for instrument in instruments:\n",
        "    instrument.play()"
      ],
      "metadata": {
        "colab": {
          "base_uri": "https://localhost:8080/"
        },
        "id": "Ay83yUhXh-66",
        "outputId": "0c355459-0474-4072-9687-344b65f13c64"
      },
      "execution_count": 7,
      "outputs": [
        {
          "output_type": "stream",
          "name": "stdout",
          "text": [
            "Strumming the guitar.\n",
            "Playing the piano.\n",
            "Playing an instrument.\n"
          ]
        }
      ]
    },
    {
      "cell_type": "code",
      "source": [
        "#  Create a class MathOperations with a class method add_numbers() to add two numbers and a static method subtract_numbers() to subtract two numbers.\n",
        "class MathOperations:\n",
        "    @classmethod\n",
        "    def add_numbers(cls, a, b):\n",
        "        return a + b\n",
        "\n",
        "    @staticmethod\n",
        "    def subtract_numbers(a, b):\n",
        "        return a - b\n",
        ""
      ],
      "metadata": {
        "id": "UmEOX3ZfiQZL"
      },
      "execution_count": 8,
      "outputs": []
    },
    {
      "cell_type": "code",
      "source": [
        "# Implement a class Person with a class method to count the total number of persons created.\n",
        "class Person:\n",
        "    total_persons = 0\n",
        "\n",
        "    def __init__(self, name):\n",
        "        self.name = name\n",
        "        Person.total_persons += 1\n",
        "\n",
        "    @classmethod\n",
        "    def count_persons(cls):\n",
        "        return cls.total_persons"
      ],
      "metadata": {
        "id": "xdEMwvplidjW"
      },
      "execution_count": 11,
      "outputs": []
    },
    {
      "cell_type": "code",
      "source": [
        "# Write a class Fraction with attributes numerator and denominator. Override the str method to display the fraction as \"numerator/denominator\".\n",
        "class Fraction:\n",
        "    def __init__(self, numerator, denominator):\n",
        "        self.numerator = numerator\n",
        "        self.denominator = denominator\n",
        "\n",
        "    def __str__(self):\n",
        "        return f\"{self.numerator}/{self.denominator}\""
      ],
      "metadata": {
        "id": "Lz3azNF5ikwi"
      },
      "execution_count": 12,
      "outputs": []
    },
    {
      "cell_type": "code",
      "source": [
        "#Demonstrate operator overloading by creating a class Vector and overriding the add method to add two vectors.\n",
        "class Vector:\n",
        "    def __init__(self, x, y):\n",
        "        self.x = x\n",
        "        self.y = y\n",
        "\n",
        "    def __add__(self, other):\n",
        "        if isinstance(other, Vector):\n",
        "            return Vector(self.x + other.x, self.y + other.y)\n",
        "        raise TypeError(\"Operand must be an instance of Vector\")\n",
        "\n",
        "    def __str__(self):\n",
        "        return f\"Vector({self.x}, {self.y})\"\n",
        "\n",
        "# Example usage:\n",
        "v1 = Vector(2, 3)\n",
        "v2 = Vector(4, 5)\n",
        "v3 = v1 + v2  # Adding two vectors\n",
        "print(v3)  # Output: Vector(6, 8)\n",
        "\n"
      ],
      "metadata": {
        "colab": {
          "base_uri": "https://localhost:8080/"
        },
        "id": "BUAkK8fii0dD",
        "outputId": "bdfd9957-0d7e-461d-9689-46d121459f91"
      },
      "execution_count": 13,
      "outputs": [
        {
          "output_type": "stream",
          "name": "stdout",
          "text": [
            "Vector(6, 8)\n"
          ]
        }
      ]
    },
    {
      "cell_type": "code",
      "source": [
        "# Create a class Person with attributes name and age. Add a method greet() that prints \"Hello, my name is {name} and I am {age} years old.\"\n",
        "class Person:\n",
        "    def __init__(self, name, age):\n",
        "        self.name = name\n",
        "        self.age = age\n",
        "\n",
        "    def greet(self):\n",
        "        print(f\"Hello, my name is {self.name} and I am {self.age} years old.\")"
      ],
      "metadata": {
        "id": "n-9gIdD1jA1n"
      },
      "execution_count": 14,
      "outputs": []
    },
    {
      "cell_type": "code",
      "source": [
        "# Implement a class Student with attributes name and grades. Create a method average_grade() to compute the average of the grades.\n",
        "class Student:\n",
        "    def __init__(self, name, grades):\n",
        "        self.name = name\n",
        "        self.grades = grades\n",
        "\n",
        "    def average_grade(self):\n",
        "        if not self.grades:\n",
        "            return 0\n",
        "        return sum(self.grades) / len"
      ],
      "metadata": {
        "id": "10WoG_VZjK-L"
      },
      "execution_count": 18,
      "outputs": []
    },
    {
      "cell_type": "code",
      "source": [
        "#  Create a class Rectangle with methods set_dimensions() to set the dimensions and area() to calculate the area.\n",
        "class Rectangle:\n",
        "    def __init__(self, length, width):\n",
        "        self.length = length\n",
        "        self.width = width\n",
        "\n",
        "    def set_dimensions(self, length, width):\n",
        "        self.length = length\n",
        "        self.width = width"
      ],
      "metadata": {
        "id": "QvFh39_7jSvt"
      },
      "execution_count": 19,
      "outputs": []
    },
    {
      "cell_type": "code",
      "source": [
        "# Create a class Employee with a method calculate_salary() that computes the salary based on hours worked and hourly rate. Create a derived class Manager that adds a bonus to the salary.\n",
        "class Employee:\n",
        "    def __init__(self, name, hourly_rate):\n",
        "        self.name = name\n",
        "        self.hourly_rate = hourly_rate\n",
        "\n",
        "    def calculate_salary(self, hours_worked):\n",
        "        return hours_worked * self.hourly_rate\n",
        "\n",
        "class Manager(Employee):\n",
        "    def __init__(self, name, hourly_rate, bonus):\n",
        "        super().__init__(name, hourly_rate)\n",
        "        self.bonus = bonus\n",
        "\n",
        "    def calculate_salary(self, hours_worked):\n",
        "        base_salary = super().calculate_salary(hours_worked)\n",
        "        return base_salary + self.bonus\n",
        "\n",
        "# Example usage:\n",
        "employee = Employee(\"John\", 20)\n",
        "manager = Manager(\"Alice\", 30, 500)\n",
        "\n",
        "print(f\"{employee.name}'s salary: ${employee.calculate_salary(40)}\")\n",
        "print(f\"{manager.name}'s salary: ${manager.calculate_salary(40)}\")"
      ],
      "metadata": {
        "colab": {
          "base_uri": "https://localhost:8080/"
        },
        "id": "KnvJMhYWjlY0",
        "outputId": "18bf16c3-70fa-45dc-ed52-3b408c08f7da"
      },
      "execution_count": 20,
      "outputs": [
        {
          "output_type": "stream",
          "name": "stdout",
          "text": [
            "John's salary: $800\n",
            "Alice's salary: $1700\n"
          ]
        }
      ]
    },
    {
      "cell_type": "code",
      "source": [
        "# Create a class Product with attributes name, price, and quantity. Implement a method total_price() that calculates the total price of the product.\n",
        "class Product:\n",
        "    def __init__(self, name, price, quantity):\n",
        "        self.name = name\n",
        "        self.price = price\n",
        "        self.quantity = quantity\n",
        "\n",
        "    def total_price(self):\n",
        "        return self.price * self.quantity\n",
        "\n",
        "\n"
      ],
      "metadata": {
        "id": "FyJ_WK_2l-Mx"
      },
      "execution_count": 29,
      "outputs": []
    },
    {
      "cell_type": "code",
      "source": [
        "# Create a class Animal with an abstract method sound(). Create two derived classes Cow and Sheep that implement the sound() method.\n",
        "from abc import ABC, abstractmethod\n",
        "\n",
        "class Animal(ABC):\n",
        "    @abstractmethod\n",
        "    def sound(self):\n",
        "        pass\n",
        "\n",
        "class Cow(Animal):\n",
        "    def sound(self):\n",
        "        return \"Moo\"\n",
        "\n",
        "class Sheep(Animal):\n",
        "    def sound(self):\n",
        "        return \"Baa\"\n",
        "\n",
        "# Example usage:\n",
        "cow = Cow()\n",
        "sheep = Sheep()\n",
        "\n",
        "print(\"Cow sound:\", cow.sound())\n",
        "print(\"Sheep sound:\", sheep.sound())"
      ],
      "metadata": {
        "colab": {
          "base_uri": "https://localhost:8080/"
        },
        "id": "z_4zMvpvj-tG",
        "outputId": "5120579a-b50a-47f6-f499-d40c15c32f95"
      },
      "execution_count": 27,
      "outputs": [
        {
          "output_type": "stream",
          "name": "stdout",
          "text": [
            "Cow sound: Moo\n",
            "Sheep sound: Baa\n"
          ]
        }
      ]
    },
    {
      "cell_type": "code",
      "source": [
        "#Create a class Book with attributes title, author, and year_published. Add a method get_book_info() that returns a formatted string with the book's details.\n",
        "class Book:\n",
        "    def __init__(self, title, author, year_published):\n",
        "        self.title = title\n",
        "        self.author = author\n",
        "        self.year_published = year_published\n",
        "\n",
        "    def get_book_info(self):\n",
        "        return f\"'{self.title}' by {self.author}, published in {self.year_published}\""
      ],
      "metadata": {
        "id": "_6uwt-bJloEo"
      },
      "execution_count": 28,
      "outputs": []
    },
    {
      "cell_type": "code",
      "source": [
        "#Create a class House with attributes address and price. Create a derived class Mansion that adds an attribute number_of_rooms\n",
        "class House:\n",
        "    def __init__(self, address, price):\n",
        "        self.address = address\n",
        "        self.price = price\n",
        "\n",
        "    def display_info(self):\n",
        "        print(f\"Address: {self.address}\")\n",
        "        print(f\"Price: ${self.price}\")\n",
        "\n",
        "class Mansion(House):\n",
        "    def __init__(self, address, price, number_of_rooms):\n",
        "        super().__init__(address, price)\n",
        "        self.number_of_rooms = number_of_rooms\n",
        "\n",
        "    def display_info(self):\n",
        "        super().display_info()\n",
        "        print(f\"Number of Rooms: {self.number_of_rooms}\")\n",
        "\n",
        "# Example usage:\n",
        "mansion = Mansion(\"123 Luxury Lane\", 5000000, 10)\n",
        "mansion.display_info()"
      ],
      "metadata": {
        "id": "zBOCcLwXkPgv"
      },
      "execution_count": null,
      "outputs": []
    }
  ]
}